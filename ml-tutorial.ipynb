{
 "cells": [
  {
   "cell_type": "code",
   "execution_count": null,
   "id": "9804a73e-6caa-4d8e-9fde-30aae34aa929",
   "metadata": {},
   "outputs": [],
   "source": [
    "import pandas as pd"
   ]
  },
  {
   "cell_type": "markdown",
   "id": "11173901-3d55-44a0-a138-1af0f94cec6f",
   "metadata": {},
   "source": [
    "## Step 1: Loading data"
   ]
  },
  {
   "cell_type": "code",
   "execution_count": null,
   "id": "67ab9d17-36b2-475d-9e62-607853041c4b",
   "metadata": {},
   "outputs": [],
   "source": [
    "# Path of the file to read\n",
    "train_file_path = '/data/train.csv'\n",
    "\n",
    "# Fill in the line below to read the file into a variable home_data\n",
    "home_data = ____ "
   ]
  },
  {
   "cell_type": "markdown",
   "id": "be033fbc-7023-4306-9ace-9fbf18b296b8",
   "metadata": {},
   "source": [
    "## Step 2: Review the data"
   ]
  },
  {
   "cell_type": "code",
   "execution_count": null,
   "id": "45089940-192d-4212-b6bd-6e186247221b",
   "metadata": {},
   "outputs": [],
   "source": [
    "# Print summary statistics in next line\n",
    "____"
   ]
  },
  {
   "cell_type": "code",
   "execution_count": null,
   "id": "478b8760-fabc-4609-a5e0-d55d05aaec76",
   "metadata": {},
   "outputs": [],
   "source": [
    "# What is the average lot size (rounded to nearest integer)?\n",
    "avg_lot_size = ____\n",
    "print(avg_lot_size)\n",
    "\n",
    "# As of today, how old is the newest home (current year - the date in which it was built)\n",
    "newest_home_age = ____\n",
    "print(newest_home_age)"
   ]
  },
  {
   "cell_type": "markdown",
   "id": "6d61fe15-83a7-4f6c-bfa3-bc9ce452f309",
   "metadata": {},
   "source": [
    "## Think About Your Data\n",
    "\n",
    "The newest house in your data isn't that new.  A few potential explanations for this:\n",
    "1. They haven't built new houses where this data was collected.\n",
    "1. The data was collected a long time ago. Houses built after the data publication wouldn't show up.\n",
    "\n",
    "If the reason is explanation #1 above, does that affect your trust in the model you build with this data? What about if it is reason #2?\n",
    "\n",
    "How could you dig into the data to see which explanation is more plausible?"
   ]
  },
  {
   "cell_type": "markdown",
   "id": "7ea87a53-5b17-46b7-9760-0ec1895a6190",
   "metadata": {},
   "source": [
    "## Step 3: Specify Prediction Target\n",
    "Select the target variable, which corresponds to the sales price. Save this to a new variable called `y`. You'll need to print a list of the columns to find the name of the column you need."
   ]
  },
  {
   "cell_type": "code",
   "execution_count": null,
   "id": "f0141360-aa05-4dd5-8de9-0306ac9a6052",
   "metadata": {},
   "outputs": [],
   "source": [
    "# print the list of columns in the dataset to find the name of the prediction target\n",
    "____"
   ]
  },
  {
   "cell_type": "code",
   "execution_count": null,
   "id": "a0aa3e3f-2ca3-4fe7-a305-d6d4d6407bfe",
   "metadata": {},
   "outputs": [],
   "source": [
    "y = ____"
   ]
  },
  {
   "cell_type": "markdown",
   "id": "3ebcc939-4ea4-4d97-aa82-bbc08a1884db",
   "metadata": {},
   "source": [
    "## Step 4: Create X\n",
    "Now you will create a DataFrame called `X` holding the predictive features.\n",
    "\n",
    "Since you want only some columns from the original data, you'll first create a list with the names of the columns you want in `X`.\n",
    "\n",
    "You'll use just the following columns in the list (you can copy and paste the whole list to save some typing, though you'll still need to add quotes):\n",
    "  * LotArea\n",
    "  * YearBuilt\n",
    "  * 1stFlrSF\n",
    "  * 2ndFlrSF\n",
    "  * FullBath\n",
    "  * BedroomAbvGr\n",
    "  * TotRmsAbvGrd\n",
    "\n",
    "After you've created that list of features, use it to create the DataFrame that you'll use to fit the model."
   ]
  },
  {
   "cell_type": "code",
   "execution_count": null,
   "id": "6f8786e6-00da-450b-a553-bb5d5105f7c8",
   "metadata": {},
   "outputs": [],
   "source": [
    "# Create the list of features below\n",
    "feature_names = ____\n",
    "# Select data corresponding to features in feature_names\n",
    "X = ____"
   ]
  },
  {
   "cell_type": "markdown",
   "id": "08ae2d73-44ca-4624-8e04-2210bdbea506",
   "metadata": {},
   "source": [
    "## Review Data\n",
    "Before building a model, take a quick look at **X** to verify it looks sensible"
   ]
  },
  {
   "cell_type": "code",
   "execution_count": null,
   "id": "ff94a789-5e0d-4bff-833a-20e99e9f646f",
   "metadata": {},
   "outputs": [],
   "source": [
    "# print description or statistics from X\n",
    "print(____)\n",
    "\n",
    "# print the top few lines\n",
    "print(____)"
   ]
  },
  {
   "cell_type": "markdown",
   "id": "6ca6f6d1-d095-440f-ad38-f69db37b7eb5",
   "metadata": {},
   "source": [
    "## Step 5: Specify and Fit Model\n",
    "Create a `DecisionTreeRegressor` and save it home_model. Ensure you've done the relevant import from sklearn to run this command.\n",
    "\n",
    "Then fit the model you just created using the data in `X` and `y` that you saved above."
   ]
  },
  {
   "cell_type": "code",
   "execution_count": null,
   "id": "e6e8503b-647b-498d-a991-77fbea165f01",
   "metadata": {},
   "outputs": [],
   "source": [
    "from ____ import ____\n",
    "#specify the model. \n",
    "#For model reproducibility, set a numeric value for random_state when specifying the model\n",
    "home_model = ____\n",
    "\n",
    "# Fit the model\n",
    "____"
   ]
  },
  {
   "cell_type": "markdown",
   "id": "19220718-56c1-4363-ba00-b274563dbcfb",
   "metadata": {},
   "source": [
    "## Step 6: Make Predictions\n",
    "Make predictions with the model's `predict` command using `X` as the data. Save the results to a variable called `predictions`."
   ]
  },
  {
   "cell_type": "code",
   "execution_count": null,
   "id": "a246764d-f827-474e-9419-9e057139d9ac",
   "metadata": {},
   "outputs": [],
   "source": [
    "predictions = ____\n",
    "print(predictions)"
   ]
  },
  {
   "cell_type": "markdown",
   "id": "17a05808-9ba3-483d-9672-a13732e7c211",
   "metadata": {},
   "source": [
    "## Think About Your Results\n",
    "\n",
    "Use the `head` method to compare the top few predictions to the actual home values (in `y`) for those same homes. Anything surprising?\n"
   ]
  },
  {
   "cell_type": "code",
   "execution_count": null,
   "id": "c5053fa3-8f82-4731-84a6-b49aebbf1b20",
   "metadata": {},
   "outputs": [],
   "source": [
    "# You can write code in this cell\n",
    "____"
   ]
  },
  {
   "cell_type": "markdown",
   "id": "000496b6-4d05-4d64-a0f5-5f5c9b6ab80a",
   "metadata": {},
   "source": [
    "## Step 7: Split Your Data\n",
    "Use the `train_test_split` function to split up your data.\n",
    "\n",
    "Give it the argument `random_state=1` so the `check` functions know what to expect when verifying your code.\n",
    "\n",
    "Recall, your features are loaded in the DataFrame **X** and your target is loaded in **y**."
   ]
  },
  {
   "cell_type": "code",
   "execution_count": null,
   "id": "4084254b-2495-4dc6-879c-0ec4810d9f32",
   "metadata": {},
   "outputs": [],
   "source": [
    "# Import the train_test_split function and uncomment\n",
    "from sklearn.model_selection import train_test_split\n",
    "\n",
    "# fill in and uncomment\n",
    "train_X, val_X, train_y, val_y = ____"
   ]
  },
  {
   "cell_type": "markdown",
   "id": "bca123b1-977c-4ad2-923f-72aa383cc688",
   "metadata": {},
   "source": [
    "## Step 8: Specify and Fit the Model\n",
    "\n",
    "Create a `DecisionTreeRegressor` model and fit it to the relevant data.\n",
    "Set `random_state` to 1 again when creating the model."
   ]
  },
  {
   "cell_type": "code",
   "execution_count": null,
   "id": "1a02efa7-b21f-4015-916f-c6a0e872066b",
   "metadata": {},
   "outputs": [],
   "source": [
    "# Specify the model\n",
    "home_model = ____\n",
    "\n",
    "# Fit home_model with the training data.\n",
    "home_model.fit(____)"
   ]
  },
  {
   "cell_type": "markdown",
   "id": "c85f45a3-140b-435a-9b86-f7979e5fb481",
   "metadata": {},
   "source": [
    "## Step 9: Make Predictions with Validation data\n"
   ]
  },
  {
   "cell_type": "code",
   "execution_count": null,
   "id": "24f8afe9-9edb-429a-8305-c43e07f2321c",
   "metadata": {},
   "outputs": [],
   "source": [
    "# Predict with all validation observations\n",
    "val_predictions = ____"
   ]
  },
  {
   "cell_type": "code",
   "execution_count": null,
   "id": "a7c50087-bf4a-4fb3-bb05-49fa00d25f21",
   "metadata": {},
   "outputs": [],
   "source": [
    "# print the top few validation predictions\n",
    "____\n",
    "# print the top few actual prices from validation data\n",
    "____"
   ]
  },
  {
   "cell_type": "markdown",
   "id": "134002bd-4967-4571-8650-ecf7abde1584",
   "metadata": {},
   "source": [
    "What do you notice that is different from what you saw with in-sample predictions?\n",
    "\n",
    "Why validation predictions differ from in-sample (or training) predictions?\n",
    "\n",
    "## Step 10: Calculate the Mean Absolute Error in Validation Data\n"
   ]
  },
  {
   "cell_type": "code",
   "execution_count": null,
   "id": "a5c20e17-a17e-4015-90c7-114d86c71118",
   "metadata": {},
   "outputs": [],
   "source": [
    "from ____ import ____\n",
    "\n",
    "val_mae = ____\n",
    "\n",
    "print(val_mae)"
   ]
  },
  {
   "cell_type": "markdown",
   "id": "a8e43011-1db3-4931-bbb8-ad2744b7bd3a",
   "metadata": {},
   "source": [
    "Is that MAE good? There isn't a general rule for what values are good that applies across applications. But you'll see how to use (and improve) this number in the next step."
   ]
  },
  {
   "cell_type": "markdown",
   "id": "41133666-d77f-4563-8e7e-6cee9c80e10a",
   "metadata": {},
   "source": [
    "## Step 11: Compare Different Tree Sizes\n",
    "Write a loop that tries the following values for *max_leaf_nodes* from a set of possible values.\n",
    "\n",
    "Call the *get_mae* function on each value of max_leaf_nodes. Store the output in some way that allows you to select the value of `max_leaf_nodes` that gives the most accurate model on your data."
   ]
  },
  {
   "cell_type": "code",
   "execution_count": null,
   "id": "c2d3d3cd-8a9a-4a05-9e81-0448f7f499a7",
   "metadata": {},
   "outputs": [],
   "source": [
    "#Lets compress our previous code into a function\n",
    "def get_mae(max_leaf_nodes, train_X, val_X, train_y, val_y):\n",
    "    model = DecisionTreeRegressor(max_leaf_nodes=max_leaf_nodes, random_state=0)\n",
    "    model.fit(train_X, train_y)\n",
    "    preds_val = model.predict(val_X)\n",
    "    mae = mean_absolute_error(val_y, preds_val)\n",
    "    return(mae)"
   ]
  },
  {
   "cell_type": "code",
   "execution_count": null,
   "id": "356b0d29-d4dd-4b11-b5d3-6ab696c1bae1",
   "metadata": {},
   "outputs": [],
   "source": [
    "candidate_max_leaf_nodes = [5, 25, 50, 100, 250, 500]\n",
    "# Write loop to find the ideal tree size from candidate_max_leaf_nodes\n",
    "____\n",
    "best_tree_size = ____\n",
    "\n",
    "print(best_tree_size)"
   ]
  },
  {
   "cell_type": "markdown",
   "id": "38e92e87-7145-477d-bb90-2f454c08108b",
   "metadata": {},
   "source": [
    "## Step 12: Fit Model Using All Data\n",
    "You know the best tree size. If you were going to deploy this model in practice, you would make it even more accurate by using all of the data and keeping that tree size.  That is, you don't need to hold out the validation data now that you've made all your modeling decisions."
   ]
  },
  {
   "cell_type": "code",
   "execution_count": null,
   "id": "d8415dba-176e-453d-81cf-a1508a398263",
   "metadata": {},
   "outputs": [],
   "source": [
    "# Fit the model with best_tree_size. Fill in argument to make optimal size\n",
    "final_model = DecisionTreeRegressor(____)\n",
    "\n",
    "# fit the final model\n",
    "final_model.fit(____)"
   ]
  },
  {
   "cell_type": "markdown",
   "id": "d49c5399-75bb-483a-bf3e-271d1bd616c8",
   "metadata": {},
   "source": [
    "## Step 13: Use a Random Forest"
   ]
  },
  {
   "cell_type": "code",
   "execution_count": null,
   "id": "83c1e9a4-0304-433e-a9c9-e3c46dc9df8c",
   "metadata": {},
   "outputs": [],
   "source": [
    "from sklearn.ensemble import RandomForestRegressor\n",
    "\n",
    "rf_model = ____\n",
    "\n",
    "# fit your model\n",
    "____\n",
    "\n",
    "# Calculate the mean absolute error of your Random Forest model on the validation data\n",
    "\n",
    "rf_val_mae = ____\n",
    "\n",
    "print(f\"Validation MAE for Random Forest Model: {rf_val_mae}\")"
   ]
  },
  {
   "cell_type": "markdown",
   "id": "d90836e5-f53f-412b-8f3d-1782e66a2410",
   "metadata": {},
   "source": [
    "So far, you have followed specific instructions at each step of your project. This helped learn key ideas and build your first model, but now you know enough to try things on your own. "
   ]
  }
 ],
 "metadata": {
  "kernelspec": {
   "display_name": "Python 3 (ipykernel)",
   "language": "python",
   "name": "python3"
  },
  "language_info": {
   "codemirror_mode": {
    "name": "ipython",
    "version": 3
   },
   "file_extension": ".py",
   "mimetype": "text/x-python",
   "name": "python",
   "nbconvert_exporter": "python",
   "pygments_lexer": "ipython3",
   "version": "3.12.7"
  }
 },
 "nbformat": 4,
 "nbformat_minor": 5
}
