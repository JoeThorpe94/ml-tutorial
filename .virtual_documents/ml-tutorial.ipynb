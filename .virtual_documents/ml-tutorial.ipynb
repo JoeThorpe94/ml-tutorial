import pandas as pd





# Path of the file to read
train_file_path = '/data/train.csv'

# Fill in the line below to read the file into a variable home_data
home_data = ____ 





# Print summary statistics in next line
____


# What is the average lot size (rounded to nearest integer)?
avg_lot_size = ____
print(avg_lot_size)

# As of today, how old is the newest home (current year - the date in which it was built)
newest_home_age = ____
print(newest_home_age)








# print the list of columns in the dataset to find the name of the prediction target
____


y = ____





# Create the list of features below
feature_names = ____
# Select data corresponding to features in feature_names
X = ____





# print description or statistics from X
print(____)

# print the top few lines
print(____)





from ____ import ____
#specify the model. 
#For model reproducibility, set a numeric value for random_state when specifying the model
home_model = ____

# Fit the model
____





predictions = ____
print(predictions)





# You can write code in this cell
____





# Import the train_test_split function and uncomment
from sklearn.model_selection import train_test_split

# fill in and uncomment
train_X, val_X, train_y, val_y = ____





# Specify the model
home_model = ____

# Fit home_model with the training data.
home_model.fit(____)





# Predict with all validation observations
val_predictions = ____


# print the top few validation predictions
____
# print the top few actual prices from validation data
____





from ____ import ____

val_mae = ____

print(val_mae)








#Lets compress our previous code into a function
def get_mae(max_leaf_nodes, train_X, val_X, train_y, val_y):
    model = DecisionTreeRegressor(max_leaf_nodes=max_leaf_nodes, random_state=0)
    model.fit(train_X, train_y)
    preds_val = model.predict(val_X)
    mae = mean_absolute_error(val_y, preds_val)
    return(mae)


candidate_max_leaf_nodes = [5, 25, 50, 100, 250, 500]
# Write loop to find the ideal tree size from candidate_max_leaf_nodes
____
best_tree_size = ____

print(best_tree_size)





# Fit the model with best_tree_size. Fill in argument to make optimal size
final_model = DecisionTreeRegressor(____)

# fit the final model
final_model.fit(____)





from sklearn.ensemble import RandomForestRegressor

rf_model = ____

# fit your model
____

# Calculate the mean absolute error of your Random Forest model on the validation data

rf_val_mae = ____

print("Validation MAE for Random Forest Model: {}".format(rf_val_mae))



